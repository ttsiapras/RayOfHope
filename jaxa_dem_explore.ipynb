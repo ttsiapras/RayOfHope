{
 "cells": [
  {
   "cell_type": "code",
   "execution_count": 1,
   "metadata": {},
   "outputs": [],
   "source": [
    "%matplotlib qt"
   ]
  },
  {
   "cell_type": "code",
   "execution_count": 2,
   "metadata": {},
   "outputs": [],
   "source": [
    "from PIL import Image\n",
    "import numpy as np\n",
    "import matplotlib.pyplot as plt\n",
    "from mpl_toolkits.mplot3d import Axes3D\n",
    "%matplotlib qt"
   ]
  },
  {
   "cell_type": "code",
   "execution_count": 3,
   "metadata": {},
   "outputs": [
    {
     "name": "stdout",
     "output_type": "stream",
     "text": [
      "Size: (3600, 3600) \n",
      "Max: 2372  Min: -11\n"
     ]
    }
   ],
   "source": [
    "im = Image.open('N037E022/ALPSMLC30_N037E022_DSM.tif')\n",
    "DEM = np.array(im)\n",
    "plt.figure(figsize=(10,10));plt.imshow(DEM); #im.show()\n",
    "print('Size:',DEM.shape,'\\nMax:',DEM.max(),' Min:',DEM.min())"
   ]
  },
  {
   "cell_type": "code",
   "execution_count": 4,
   "metadata": {},
   "outputs": [
    {
     "name": "stdout",
     "output_type": "stream",
     "text": [
      "Size: (3600, 3600) \n",
      "Max: 48  Min: 0\n"
     ]
    },
    {
     "data": {
      "text/plain": [
       "<matplotlib.image.AxesImage at 0x1f551d15a90>"
      ]
     },
     "execution_count": 4,
     "metadata": {},
     "output_type": "execute_result"
    }
   ],
   "source": [
    "mask_raw = np.array(Image.open('N037E022/ALPSMLC30_N037E022_MSK.tif'))\n",
    "print('Size:',mask_raw.shape,'\\nMax:',mask_raw.max(),' Min:',mask_raw.min())\n",
    "mask = np.where(mask_raw == 3,0,1) #1:land, 0:sea\n",
    "plt.imshow(mask,cmap='gray')\n"
   ]
  },
  {
   "cell_type": "code",
   "execution_count": 5,
   "metadata": {},
   "outputs": [],
   "source": [
    "from mpl_toolkits import mplot3d\n",
    "import numpy as np\n",
    "import matplotlib.pyplot as plt\n",
    "\n",
    "# Creating dataset\n",
    "z = DEM[:100,:100]\n",
    "x = np.linspace(0, 99, 100)\n",
    "y = np.linspace(0, 99, 100)\n",
    "x, y = np.meshgrid(x, y)\n",
    "\n",
    "# Creating figure\n",
    "fig = plt.figure(figsize =(10,10))\n",
    "ax = plt.axes(projection ='3d')\n",
    "ax.set_xlim(0,100)\n",
    "ax.set_ylim(0,100)\n",
    "ax.set_zlim(0,100*30)\n",
    "# Creating plot\n",
    "ax.plot_surface(x, y, z, rstride=1, cstride=1, cmap='gray', edgecolor='none')\n",
    " \n",
    "# show plot\n",
    "plt.show()"
   ]
  },
  {
   "cell_type": "code",
   "execution_count": 10,
   "metadata": {},
   "outputs": [
    {
     "name": "stdout",
     "output_type": "stream",
     "text": [
      "Jupyter environment detected. Enabling Open3D WebVisualizer.\n",
      "[Open3D INFO] WebRTC GUI backend enabled.\n",
      "[Open3D INFO] WebRTCWindowSystem: HTTP handshake server disabled.\n",
      "Load a ply point cloud, print it, and render it\n"
     ]
    }
   ],
   "source": [
    "import numpy as np\n",
    "import open3d as o3d\n",
    "import time\n",
    "\n",
    "print(\"Load a ply point cloud, print it, and render it\")\n",
    "#pcd = o3d.io.read_point_cloud(\".\\sample.ply\")\n",
    "pcd = o3d.io.read_point_cloud(r\"./test.xyz\")\n"
   ]
  },
  {
   "cell_type": "code",
   "execution_count": 11,
   "metadata": {},
   "outputs": [],
   "source": [
    "z = DEM[:100,:100]\n",
    "x = np.linspace(0, 99, 100)\n",
    "y = np.linspace(0, 99, 100)\n",
    "x, y = np.meshgrid(x, y)\n",
    "\n",
    "y_flat = y.flatten()*30 #m\n",
    "x_flat = x.flatten()*30 #m\n",
    "z_flat = z.flatten()\n",
    "np_points = np.stack([x_flat,y_flat,z_flat],axis=1)\n",
    "\n",
    "points = o3d.utility.Vector3dVector(np_points)\n",
    "\n",
    "pcd = o3d.geometry.PointCloud(points)\n",
    "\n",
    "o3d.visualization.draw_geometries([pcd])"
   ]
  },
  {
   "cell_type": "code",
   "execution_count": 49,
   "metadata": {},
   "outputs": [
    {
     "ename": "RuntimeError",
     "evalue": "[Open3D Error] (class std::tuple<class std::shared_ptr<class open3d::geometry::TriangleMesh>,class std::vector<double,class std::allocator<double> > > __cdecl open3d::geometry::TriangleMesh::CreateFromPointCloudPoisson(const class open3d::geometry::PointCloud &,unsigned __int64,unsigned __int64,float,bool,int)) D:\\a\\Open3D\\Open3D\\cpp\\open3d\\geometry\\SurfaceReconstructionPoisson.cpp:753: [CreateFromPointCloudPoisson] pcd has no normals\n",
     "output_type": "error",
     "traceback": [
      "\u001b[1;31m---------------------------------------------------------------------------\u001b[0m",
      "\u001b[1;31mRuntimeError\u001b[0m                              Traceback (most recent call last)",
      "\u001b[1;32m<ipython-input-49-c9f29bf6e0c1>\u001b[0m in \u001b[0;36m<module>\u001b[1;34m\u001b[0m\n\u001b[0;32m      1\u001b[0m \u001b[1;32mwith\u001b[0m \u001b[0mo3d\u001b[0m\u001b[1;33m.\u001b[0m\u001b[0mutility\u001b[0m\u001b[1;33m.\u001b[0m\u001b[0mVerbosityContextManager\u001b[0m\u001b[1;33m(\u001b[0m\u001b[0mo3d\u001b[0m\u001b[1;33m.\u001b[0m\u001b[0mutility\u001b[0m\u001b[1;33m.\u001b[0m\u001b[0mVerbosityLevel\u001b[0m\u001b[1;33m.\u001b[0m\u001b[0mDebug\u001b[0m\u001b[1;33m)\u001b[0m \u001b[1;32mas\u001b[0m \u001b[0mcm\u001b[0m\u001b[1;33m:\u001b[0m\u001b[1;33m\u001b[0m\u001b[1;33m\u001b[0m\u001b[0m\n\u001b[1;32m----> 2\u001b[1;33m     \u001b[0mmesh\u001b[0m\u001b[1;33m,\u001b[0m \u001b[0mdensities\u001b[0m \u001b[1;33m=\u001b[0m \u001b[0mo3d\u001b[0m\u001b[1;33m.\u001b[0m\u001b[0mgeometry\u001b[0m\u001b[1;33m.\u001b[0m\u001b[0mTriangleMesh\u001b[0m\u001b[1;33m.\u001b[0m\u001b[0mcreate_from_point_cloud_poisson\u001b[0m\u001b[1;33m(\u001b[0m\u001b[0mpcd\u001b[0m\u001b[1;33m,\u001b[0m \u001b[0mdepth\u001b[0m\u001b[1;33m=\u001b[0m\u001b[1;36m9\u001b[0m\u001b[1;33m)\u001b[0m\u001b[1;33m\u001b[0m\u001b[1;33m\u001b[0m\u001b[0m\n\u001b[0m\u001b[0;32m      3\u001b[0m \u001b[1;33m\u001b[0m\u001b[0m\n\u001b[0;32m      4\u001b[0m \u001b[0mo3d\u001b[0m\u001b[1;33m.\u001b[0m\u001b[0mvisualization\u001b[0m\u001b[1;33m.\u001b[0m\u001b[0mdraw_geometries\u001b[0m\u001b[1;33m(\u001b[0m\u001b[1;33m[\u001b[0m\u001b[0mmesh\u001b[0m\u001b[1;33m]\u001b[0m\u001b[1;33m)\u001b[0m\u001b[1;33m\u001b[0m\u001b[1;33m\u001b[0m\u001b[0m\n",
      "\u001b[1;31mRuntimeError\u001b[0m: [Open3D Error] (class std::tuple<class std::shared_ptr<class open3d::geometry::TriangleMesh>,class std::vector<double,class std::allocator<double> > > __cdecl open3d::geometry::TriangleMesh::CreateFromPointCloudPoisson(const class open3d::geometry::PointCloud &,unsigned __int64,unsigned __int64,float,bool,int)) D:\\a\\Open3D\\Open3D\\cpp\\open3d\\geometry\\SurfaceReconstructionPoisson.cpp:753: [CreateFromPointCloudPoisson] pcd has no normals\n"
     ]
    }
   ],
   "source": [
    "with o3d.utility.VerbosityContextManager(o3d.utility.VerbosityLevel.Debug) as cm:\n",
    "    mesh, densities = o3d.geometry.TriangleMesh.create_from_point_cloud_poisson(pcd, depth=9)\n",
    "\n",
    "o3d.visualization.draw_geometries([mesh])"
   ]
  },
  {
   "cell_type": "code",
   "execution_count": 48,
   "metadata": {},
   "outputs": [
    {
     "ename": "AttributeError",
     "evalue": "'open3d.cpu.pybind.geometry.PointCloud' object has no attribute 'compute_vertex_normals'",
     "output_type": "error",
     "traceback": [
      "\u001b[1;31m---------------------------------------------------------------------------\u001b[0m",
      "\u001b[1;31mAttributeError\u001b[0m                            Traceback (most recent call last)",
      "\u001b[1;32m<ipython-input-48-22b85482a5be>\u001b[0m in \u001b[0;36m<module>\u001b[1;34m\u001b[0m\n\u001b[0;32m      1\u001b[0m \u001b[0mradii\u001b[0m \u001b[1;33m=\u001b[0m \u001b[1;33m[\u001b[0m\u001b[1;36m0.005\u001b[0m\u001b[1;33m,\u001b[0m \u001b[1;36m0.01\u001b[0m\u001b[1;33m,\u001b[0m \u001b[1;36m0.02\u001b[0m\u001b[1;33m,\u001b[0m \u001b[1;36m0.04\u001b[0m\u001b[1;33m]\u001b[0m\u001b[1;33m\u001b[0m\u001b[1;33m\u001b[0m\u001b[0m\n\u001b[0;32m      2\u001b[0m \u001b[1;33m\u001b[0m\u001b[0m\n\u001b[1;32m----> 3\u001b[1;33m \u001b[0mpcd\u001b[0m\u001b[1;33m.\u001b[0m\u001b[0mcompute_vertex_normals\u001b[0m\u001b[1;33m(\u001b[0m\u001b[1;33m)\u001b[0m\u001b[1;33m\u001b[0m\u001b[1;33m\u001b[0m\u001b[0m\n\u001b[0m\u001b[0;32m      4\u001b[0m \u001b[0mpcd\u001b[0m \u001b[1;33m=\u001b[0m \u001b[0mpcd\u001b[0m\u001b[1;33m.\u001b[0m\u001b[0msample_points_poisson_disk\u001b[0m\u001b[1;33m(\u001b[0m\u001b[1;36m3000\u001b[0m\u001b[1;33m)\u001b[0m\u001b[1;33m\u001b[0m\u001b[1;33m\u001b[0m\u001b[0m\n\u001b[0;32m      5\u001b[0m \u001b[1;33m\u001b[0m\u001b[0m\n",
      "\u001b[1;31mAttributeError\u001b[0m: 'open3d.cpu.pybind.geometry.PointCloud' object has no attribute 'compute_vertex_normals'"
     ]
    }
   ],
   "source": [
    "radii = [0.005, 0.01, 0.02, 0.04]\n",
    "\n",
    "pcd.compute_vertex_normals()\n",
    "pcd = pcd.sample_points_poisson_disk(3000)\n",
    "\n",
    "rec_mesh = o3d.geometry.TriangleMesh.create_from_point_cloud_ball_pivoting(pcd, o3d.utility.DoubleVector(radii))\n",
    "o3d.visualization.draw_geometries([pcd, rec_mesh])"
   ]
  },
  {
   "cell_type": "code",
   "execution_count": 6,
   "metadata": {},
   "outputs": [
    {
     "name": "stdout",
     "output_type": "stream",
     "text": [
      "alpha=100.000\n",
      "[Open3D WARNING] [CreateFromPointCloudAlphaShape] invalid tetra in TetraMesh\n",
      "[Open3D WARNING] [CreateFromPointCloudAlphaShape] invalid tetra in TetraMesh\n",
      "[Open3D WARNING] [CreateFromPointCloudAlphaShape] invalid tetra in TetraMesh\n",
      "[Open3D WARNING] [CreateFromPointCloudAlphaShape] invalid tetra in TetraMesh\n",
      "[Open3D WARNING] [CreateFromPointCloudAlphaShape] invalid tetra in TetraMesh\n",
      "[Open3D WARNING] [CreateFromPointCloudAlphaShape] invalid tetra in TetraMesh\n",
      "[Open3D WARNING] [CreateFromPointCloudAlphaShape] invalid tetra in TetraMesh\n",
      "[Open3D WARNING] [CreateFromPointCloudAlphaShape] invalid tetra in TetraMesh\n",
      "[Open3D WARNING] [CreateFromPointCloudAlphaShape] invalid tetra in TetraMesh\n",
      "[Open3D WARNING] [CreateFromPointCloudAlphaShape] invalid tetra in TetraMesh\n",
      "[Open3D WARNING] [CreateFromPointCloudAlphaShape] invalid tetra in TetraMesh\n",
      "[Open3D WARNING] [CreateFromPointCloudAlphaShape] invalid tetra in TetraMesh\n",
      "[Open3D WARNING] [CreateFromPointCloudAlphaShape] invalid tetra in TetraMesh\n",
      "[Open3D WARNING] [CreateFromPointCloudAlphaShape] invalid tetra in TetraMesh\n",
      "[Open3D WARNING] [CreateFromPointCloudAlphaShape] invalid tetra in TetraMesh\n",
      "[Open3D WARNING] [CreateFromPointCloudAlphaShape] invalid tetra in TetraMesh\n",
      "[Open3D WARNING] [CreateFromPointCloudAlphaShape] invalid tetra in TetraMesh\n",
      "[Open3D WARNING] [CreateFromPointCloudAlphaShape] invalid tetra in TetraMesh\n",
      "[Open3D WARNING] [CreateFromPointCloudAlphaShape] invalid tetra in TetraMesh\n",
      "[Open3D WARNING] [CreateFromPointCloudAlphaShape] invalid tetra in TetraMesh\n",
      "[Open3D WARNING] [CreateFromPointCloudAlphaShape] invalid tetra in TetraMesh\n",
      "[Open3D WARNING] [CreateFromPointCloudAlphaShape] invalid tetra in TetraMesh\n",
      "[Open3D WARNING] [CreateFromPointCloudAlphaShape] invalid tetra in TetraMesh\n",
      "[Open3D WARNING] [CreateFromPointCloudAlphaShape] invalid tetra in TetraMesh\n",
      "[Open3D WARNING] [CreateFromPointCloudAlphaShape] invalid tetra in TetraMesh\n",
      "[Open3D WARNING] [CreateFromPointCloudAlphaShape] invalid tetra in TetraMesh\n",
      "[Open3D WARNING] [CreateFromPointCloudAlphaShape] invalid tetra in TetraMesh\n",
      "[Open3D WARNING] [CreateFromPointCloudAlphaShape] invalid tetra in TetraMesh\n",
      "[Open3D WARNING] [CreateFromPointCloudAlphaShape] invalid tetra in TetraMesh\n",
      "[Open3D WARNING] [CreateFromPointCloudAlphaShape] invalid tetra in TetraMesh\n",
      "[Open3D WARNING] [CreateFromPointCloudAlphaShape] invalid tetra in TetraMesh\n",
      "[Open3D WARNING] [CreateFromPointCloudAlphaShape] invalid tetra in TetraMesh\n",
      "[Open3D WARNING] [CreateFromPointCloudAlphaShape] invalid tetra in TetraMesh\n",
      "[Open3D WARNING] [CreateFromPointCloudAlphaShape] invalid tetra in TetraMesh\n",
      "[Open3D WARNING] [CreateFromPointCloudAlphaShape] invalid tetra in TetraMesh\n",
      "[Open3D WARNING] [CreateFromPointCloudAlphaShape] invalid tetra in TetraMesh\n",
      "[Open3D WARNING] [CreateFromPointCloudAlphaShape] invalid tetra in TetraMesh\n",
      "[Open3D WARNING] [CreateFromPointCloudAlphaShape] invalid tetra in TetraMesh\n",
      "[Open3D WARNING] [CreateFromPointCloudAlphaShape] invalid tetra in TetraMesh\n",
      "[Open3D WARNING] [CreateFromPointCloudAlphaShape] invalid tetra in TetraMesh\n",
      "[Open3D WARNING] [CreateFromPointCloudAlphaShape] invalid tetra in TetraMesh\n",
      "[Open3D WARNING] [CreateFromPointCloudAlphaShape] invalid tetra in TetraMesh\n",
      "[Open3D WARNING] [CreateFromPointCloudAlphaShape] invalid tetra in TetraMesh\n",
      "[Open3D WARNING] [CreateFromPointCloudAlphaShape] invalid tetra in TetraMesh\n",
      "[Open3D WARNING] [CreateFromPointCloudAlphaShape] invalid tetra in TetraMesh\n",
      "[Open3D WARNING] [CreateFromPointCloudAlphaShape] invalid tetra in TetraMesh\n",
      "[Open3D WARNING] [CreateFromPointCloudAlphaShape] invalid tetra in TetraMesh\n",
      "[Open3D WARNING] [CreateFromPointCloudAlphaShape] invalid tetra in TetraMesh\n",
      "[Open3D WARNING] [CreateFromPointCloudAlphaShape] invalid tetra in TetraMesh\n",
      "[Open3D WARNING] [CreateFromPointCloudAlphaShape] invalid tetra in TetraMesh\n",
      "[Open3D WARNING] [CreateFromPointCloudAlphaShape] invalid tetra in TetraMesh\n",
      "[Open3D WARNING] [CreateFromPointCloudAlphaShape] invalid tetra in TetraMesh\n",
      "[Open3D WARNING] [CreateFromPointCloudAlphaShape] invalid tetra in TetraMesh\n",
      "[Open3D WARNING] [CreateFromPointCloudAlphaShape] invalid tetra in TetraMesh\n",
      "[Open3D WARNING] [CreateFromPointCloudAlphaShape] invalid tetra in TetraMesh\n",
      "[Open3D WARNING] [CreateFromPointCloudAlphaShape] invalid tetra in TetraMesh\n",
      "[Open3D WARNING] [CreateFromPointCloudAlphaShape] invalid tetra in TetraMesh\n",
      "[Open3D WARNING] [CreateFromPointCloudAlphaShape] invalid tetra in TetraMesh\n",
      "[Open3D WARNING] [CreateFromPointCloudAlphaShape] invalid tetra in TetraMesh\n",
      "[Open3D WARNING] [CreateFromPointCloudAlphaShape] invalid tetra in TetraMesh\n",
      "[Open3D WARNING] [CreateFromPointCloudAlphaShape] invalid tetra in TetraMesh\n",
      "[Open3D WARNING] [CreateFromPointCloudAlphaShape] invalid tetra in TetraMesh\n",
      "[Open3D WARNING] [CreateFromPointCloudAlphaShape] invalid tetra in TetraMesh\n",
      "[Open3D WARNING] [CreateFromPointCloudAlphaShape] invalid tetra in TetraMesh\n",
      "[Open3D WARNING] [CreateFromPointCloudAlphaShape] invalid tetra in TetraMesh\n",
      "[Open3D WARNING] [CreateFromPointCloudAlphaShape] invalid tetra in TetraMesh\n",
      "[Open3D WARNING] [CreateFromPointCloudAlphaShape] invalid tetra in TetraMesh\n",
      "[Open3D WARNING] [CreateFromPointCloudAlphaShape] invalid tetra in TetraMesh\n",
      "[Open3D WARNING] [CreateFromPointCloudAlphaShape] invalid tetra in TetraMesh\n",
      "[Open3D WARNING] [CreateFromPointCloudAlphaShape] invalid tetra in TetraMesh\n",
      "[Open3D WARNING] [CreateFromPointCloudAlphaShape] invalid tetra in TetraMesh\n",
      "[Open3D WARNING] [CreateFromPointCloudAlphaShape] invalid tetra in TetraMesh\n",
      "[Open3D WARNING] [CreateFromPointCloudAlphaShape] invalid tetra in TetraMesh\n",
      "[Open3D WARNING] [CreateFromPointCloudAlphaShape] invalid tetra in TetraMesh\n",
      "[Open3D WARNING] [CreateFromPointCloudAlphaShape] invalid tetra in TetraMesh\n",
      "[Open3D WARNING] [CreateFromPointCloudAlphaShape] invalid tetra in TetraMesh\n",
      "[Open3D WARNING] [CreateFromPointCloudAlphaShape] invalid tetra in TetraMesh\n",
      "[Open3D WARNING] [CreateFromPointCloudAlphaShape] invalid tetra in TetraMesh\n",
      "[Open3D WARNING] [CreateFromPointCloudAlphaShape] invalid tetra in TetraMesh\n",
      "[Open3D WARNING] [CreateFromPointCloudAlphaShape] invalid tetra in TetraMesh\n",
      "[Open3D WARNING] [CreateFromPointCloudAlphaShape] invalid tetra in TetraMesh\n",
      "[Open3D WARNING] [CreateFromPointCloudAlphaShape] invalid tetra in TetraMesh\n",
      "[Open3D WARNING] [CreateFromPointCloudAlphaShape] invalid tetra in TetraMesh\n",
      "[Open3D WARNING] [CreateFromPointCloudAlphaShape] invalid tetra in TetraMesh\n",
      "[Open3D WARNING] [CreateFromPointCloudAlphaShape] invalid tetra in TetraMesh\n",
      "[Open3D WARNING] [CreateFromPointCloudAlphaShape] invalid tetra in TetraMesh\n",
      "[Open3D WARNING] [CreateFromPointCloudAlphaShape] invalid tetra in TetraMesh\n",
      "[Open3D WARNING] [CreateFromPointCloudAlphaShape] invalid tetra in TetraMesh\n",
      "[Open3D WARNING] [CreateFromPointCloudAlphaShape] invalid tetra in TetraMesh\n",
      "[Open3D WARNING] [CreateFromPointCloudAlphaShape] invalid tetra in TetraMesh\n",
      "[Open3D WARNING] [CreateFromPointCloudAlphaShape] invalid tetra in TetraMesh\n",
      "[Open3D WARNING] [CreateFromPointCloudAlphaShape] invalid tetra in TetraMesh\n",
      "[Open3D WARNING] [CreateFromPointCloudAlphaShape] invalid tetra in TetraMesh\n",
      "[Open3D WARNING] [CreateFromPointCloudAlphaShape] invalid tetra in TetraMesh\n",
      "[Open3D WARNING] [CreateFromPointCloudAlphaShape] invalid tetra in TetraMesh\n",
      "[Open3D WARNING] [CreateFromPointCloudAlphaShape] invalid tetra in TetraMesh\n",
      "[Open3D WARNING] [CreateFromPointCloudAlphaShape] invalid tetra in TetraMesh\n",
      "[Open3D WARNING] [CreateFromPointCloudAlphaShape] invalid tetra in TetraMesh\n",
      "[Open3D WARNING] [CreateFromPointCloudAlphaShape] invalid tetra in TetraMesh\n",
      "[Open3D WARNING] [CreateFromPointCloudAlphaShape] invalid tetra in TetraMesh\n",
      "[Open3D WARNING] [CreateFromPointCloudAlphaShape] invalid tetra in TetraMesh\n",
      "[Open3D WARNING] [CreateFromPointCloudAlphaShape] invalid tetra in TetraMesh\n",
      "[Open3D WARNING] [CreateFromPointCloudAlphaShape] invalid tetra in TetraMesh\n",
      "[Open3D WARNING] [CreateFromPointCloudAlphaShape] invalid tetra in TetraMesh\n",
      "[Open3D WARNING] [CreateFromPointCloudAlphaShape] invalid tetra in TetraMesh\n",
      "[Open3D WARNING] [CreateFromPointCloudAlphaShape] invalid tetra in TetraMesh\n",
      "[Open3D WARNING] [CreateFromPointCloudAlphaShape] invalid tetra in TetraMesh\n",
      "[Open3D WARNING] [CreateFromPointCloudAlphaShape] invalid tetra in TetraMesh\n",
      "[Open3D WARNING] [CreateFromPointCloudAlphaShape] invalid tetra in TetraMesh\n",
      "[Open3D WARNING] [CreateFromPointCloudAlphaShape] invalid tetra in TetraMesh\n",
      "[Open3D WARNING] [CreateFromPointCloudAlphaShape] invalid tetra in TetraMesh\n",
      "[Open3D WARNING] [CreateFromPointCloudAlphaShape] invalid tetra in TetraMesh\n",
      "[Open3D WARNING] [CreateFromPointCloudAlphaShape] invalid tetra in TetraMesh\n",
      "[Open3D WARNING] [CreateFromPointCloudAlphaShape] invalid tetra in TetraMesh\n",
      "[Open3D WARNING] [CreateFromPointCloudAlphaShape] invalid tetra in TetraMesh\n",
      "[Open3D WARNING] [CreateFromPointCloudAlphaShape] invalid tetra in TetraMesh\n",
      "[Open3D WARNING] [CreateFromPointCloudAlphaShape] invalid tetra in TetraMesh\n",
      "[Open3D WARNING] [CreateFromPointCloudAlphaShape] invalid tetra in TetraMesh\n",
      "[Open3D WARNING] [CreateFromPointCloudAlphaShape] invalid tetra in TetraMesh\n",
      "[Open3D WARNING] [CreateFromPointCloudAlphaShape] invalid tetra in TetraMesh\n",
      "[Open3D WARNING] [CreateFromPointCloudAlphaShape] invalid tetra in TetraMesh\n",
      "[Open3D WARNING] [CreateFromPointCloudAlphaShape] invalid tetra in TetraMesh\n",
      "[Open3D WARNING] [CreateFromPointCloudAlphaShape] invalid tetra in TetraMesh\n",
      "[Open3D WARNING] [CreateFromPointCloudAlphaShape] invalid tetra in TetraMesh\n",
      "[Open3D WARNING] [CreateFromPointCloudAlphaShape] invalid tetra in TetraMesh\n",
      "[Open3D WARNING] [CreateFromPointCloudAlphaShape] invalid tetra in TetraMesh\n",
      "[Open3D WARNING] [CreateFromPointCloudAlphaShape] invalid tetra in TetraMesh\n",
      "[Open3D WARNING] [CreateFromPointCloudAlphaShape] invalid tetra in TetraMesh\n",
      "[Open3D WARNING] [CreateFromPointCloudAlphaShape] invalid tetra in TetraMesh\n",
      "[Open3D WARNING] [CreateFromPointCloudAlphaShape] invalid tetra in TetraMesh\n",
      "[Open3D WARNING] [CreateFromPointCloudAlphaShape] invalid tetra in TetraMesh\n",
      "[Open3D WARNING] [CreateFromPointCloudAlphaShape] invalid tetra in TetraMesh\n",
      "[Open3D WARNING] [CreateFromPointCloudAlphaShape] invalid tetra in TetraMesh\n",
      "[Open3D WARNING] [CreateFromPointCloudAlphaShape] invalid tetra in TetraMesh\n",
      "[Open3D WARNING] [CreateFromPointCloudAlphaShape] invalid tetra in TetraMesh\n",
      "[Open3D WARNING] [CreateFromPointCloudAlphaShape] invalid tetra in TetraMesh\n",
      "[Open3D WARNING] [CreateFromPointCloudAlphaShape] invalid tetra in TetraMesh\n",
      "[Open3D WARNING] [CreateFromPointCloudAlphaShape] invalid tetra in TetraMesh\n",
      "[Open3D WARNING] [CreateFromPointCloudAlphaShape] invalid tetra in TetraMesh\n",
      "[Open3D WARNING] [CreateFromPointCloudAlphaShape] invalid tetra in TetraMesh\n",
      "[Open3D WARNING] [CreateFromPointCloudAlphaShape] invalid tetra in TetraMesh\n",
      "[Open3D WARNING] [CreateFromPointCloudAlphaShape] invalid tetra in TetraMesh\n",
      "[Open3D WARNING] [CreateFromPointCloudAlphaShape] invalid tetra in TetraMesh\n",
      "[Open3D WARNING] [CreateFromPointCloudAlphaShape] invalid tetra in TetraMesh\n",
      "[Open3D WARNING] [CreateFromPointCloudAlphaShape] invalid tetra in TetraMesh\n",
      "[Open3D WARNING] [CreateFromPointCloudAlphaShape] invalid tetra in TetraMesh\n",
      "[Open3D WARNING] [CreateFromPointCloudAlphaShape] invalid tetra in TetraMesh\n",
      "[Open3D WARNING] [CreateFromPointCloudAlphaShape] invalid tetra in TetraMesh\n",
      "[Open3D WARNING] [CreateFromPointCloudAlphaShape] invalid tetra in TetraMesh\n",
      "[Open3D WARNING] [CreateFromPointCloudAlphaShape] invalid tetra in TetraMesh\n",
      "[Open3D WARNING] [CreateFromPointCloudAlphaShape] invalid tetra in TetraMesh\n",
      "[Open3D WARNING] [CreateFromPointCloudAlphaShape] invalid tetra in TetraMesh\n",
      "[Open3D WARNING] [CreateFromPointCloudAlphaShape] invalid tetra in TetraMesh\n",
      "[Open3D WARNING] [CreateFromPointCloudAlphaShape] invalid tetra in TetraMesh\n",
      "[Open3D WARNING] [CreateFromPointCloudAlphaShape] invalid tetra in TetraMesh\n",
      "[Open3D WARNING] [CreateFromPointCloudAlphaShape] invalid tetra in TetraMesh\n",
      "[Open3D WARNING] [CreateFromPointCloudAlphaShape] invalid tetra in TetraMesh\n",
      "[Open3D WARNING] [CreateFromPointCloudAlphaShape] invalid tetra in TetraMesh\n",
      "[Open3D WARNING] [CreateFromPointCloudAlphaShape] invalid tetra in TetraMesh\n",
      "[Open3D WARNING] [CreateFromPointCloudAlphaShape] invalid tetra in TetraMesh\n",
      "[Open3D WARNING] [CreateFromPointCloudAlphaShape] invalid tetra in TetraMesh\n",
      "[Open3D WARNING] [CreateFromPointCloudAlphaShape] invalid tetra in TetraMesh\n",
      "[Open3D WARNING] [CreateFromPointCloudAlphaShape] invalid tetra in TetraMesh\n",
      "[Open3D WARNING] [CreateFromPointCloudAlphaShape] invalid tetra in TetraMesh\n",
      "[Open3D WARNING] [CreateFromPointCloudAlphaShape] invalid tetra in TetraMesh\n",
      "[Open3D WARNING] [CreateFromPointCloudAlphaShape] invalid tetra in TetraMesh\n",
      "[Open3D WARNING] [CreateFromPointCloudAlphaShape] invalid tetra in TetraMesh\n",
      "[Open3D WARNING] [CreateFromPointCloudAlphaShape] invalid tetra in TetraMesh\n",
      "[Open3D WARNING] [CreateFromPointCloudAlphaShape] invalid tetra in TetraMesh\n",
      "[Open3D WARNING] [CreateFromPointCloudAlphaShape] invalid tetra in TetraMesh\n",
      "[Open3D WARNING] [CreateFromPointCloudAlphaShape] invalid tetra in TetraMesh\n",
      "[Open3D WARNING] [CreateFromPointCloudAlphaShape] invalid tetra in TetraMesh\n",
      "[Open3D WARNING] [CreateFromPointCloudAlphaShape] invalid tetra in TetraMesh\n",
      "[Open3D WARNING] [CreateFromPointCloudAlphaShape] invalid tetra in TetraMesh\n",
      "[Open3D WARNING] [CreateFromPointCloudAlphaShape] invalid tetra in TetraMesh\n",
      "[Open3D WARNING] [CreateFromPointCloudAlphaShape] invalid tetra in TetraMesh\n",
      "[Open3D WARNING] [CreateFromPointCloudAlphaShape] invalid tetra in TetraMesh\n",
      "[Open3D WARNING] [CreateFromPointCloudAlphaShape] invalid tetra in TetraMesh\n",
      "[Open3D WARNING] [CreateFromPointCloudAlphaShape] invalid tetra in TetraMesh\n",
      "[Open3D WARNING] [CreateFromPointCloudAlphaShape] invalid tetra in TetraMesh\n",
      "[Open3D WARNING] [CreateFromPointCloudAlphaShape] invalid tetra in TetraMesh\n",
      "[Open3D WARNING] [CreateFromPointCloudAlphaShape] invalid tetra in TetraMesh\n",
      "[Open3D WARNING] [CreateFromPointCloudAlphaShape] invalid tetra in TetraMesh\n",
      "[Open3D WARNING] [CreateFromPointCloudAlphaShape] invalid tetra in TetraMesh\n",
      "[Open3D WARNING] [CreateFromPointCloudAlphaShape] invalid tetra in TetraMesh\n",
      "[Open3D WARNING] [CreateFromPointCloudAlphaShape] invalid tetra in TetraMesh\n",
      "[Open3D WARNING] [CreateFromPointCloudAlphaShape] invalid tetra in TetraMesh\n",
      "[Open3D WARNING] [CreateFromPointCloudAlphaShape] invalid tetra in TetraMesh\n",
      "[Open3D WARNING] [CreateFromPointCloudAlphaShape] invalid tetra in TetraMesh\n",
      "[Open3D WARNING] [CreateFromPointCloudAlphaShape] invalid tetra in TetraMesh\n",
      "[Open3D WARNING] [CreateFromPointCloudAlphaShape] invalid tetra in TetraMesh\n",
      "[Open3D WARNING] [CreateFromPointCloudAlphaShape] invalid tetra in TetraMesh\n",
      "[Open3D WARNING] [CreateFromPointCloudAlphaShape] invalid tetra in TetraMesh\n",
      "[Open3D WARNING] [CreateFromPointCloudAlphaShape] invalid tetra in TetraMesh\n",
      "[Open3D WARNING] [CreateFromPointCloudAlphaShape] invalid tetra in TetraMesh\n",
      "[Open3D WARNING] [CreateFromPointCloudAlphaShape] invalid tetra in TetraMesh\n",
      "[Open3D WARNING] [CreateFromPointCloudAlphaShape] invalid tetra in TetraMesh\n",
      "[Open3D WARNING] [CreateFromPointCloudAlphaShape] invalid tetra in TetraMesh\n",
      "[Open3D WARNING] [CreateFromPointCloudAlphaShape] invalid tetra in TetraMesh\n",
      "[Open3D WARNING] [CreateFromPointCloudAlphaShape] invalid tetra in TetraMesh\n",
      "[Open3D WARNING] [CreateFromPointCloudAlphaShape] invalid tetra in TetraMesh\n",
      "[Open3D WARNING] [CreateFromPointCloudAlphaShape] invalid tetra in TetraMesh\n",
      "[Open3D WARNING] [CreateFromPointCloudAlphaShape] invalid tetra in TetraMesh\n",
      "[Open3D WARNING] [CreateFromPointCloudAlphaShape] invalid tetra in TetraMesh\n",
      "[Open3D WARNING] [CreateFromPointCloudAlphaShape] invalid tetra in TetraMesh\n",
      "[Open3D WARNING] [CreateFromPointCloudAlphaShape] invalid tetra in TetraMesh\n",
      "[Open3D WARNING] [CreateFromPointCloudAlphaShape] invalid tetra in TetraMesh\n",
      "[Open3D WARNING] [CreateFromPointCloudAlphaShape] invalid tetra in TetraMesh\n",
      "[Open3D WARNING] [CreateFromPointCloudAlphaShape] invalid tetra in TetraMesh\n",
      "[Open3D WARNING] [CreateFromPointCloudAlphaShape] invalid tetra in TetraMesh\n",
      "[Open3D WARNING] [CreateFromPointCloudAlphaShape] invalid tetra in TetraMesh\n",
      "[Open3D WARNING] [CreateFromPointCloudAlphaShape] invalid tetra in TetraMesh\n",
      "[Open3D WARNING] [CreateFromPointCloudAlphaShape] invalid tetra in TetraMesh\n",
      "[Open3D WARNING] [CreateFromPointCloudAlphaShape] invalid tetra in TetraMesh\n",
      "[Open3D WARNING] [CreateFromPointCloudAlphaShape] invalid tetra in TetraMesh\n",
      "[Open3D WARNING] [CreateFromPointCloudAlphaShape] invalid tetra in TetraMesh\n",
      "[Open3D WARNING] [CreateFromPointCloudAlphaShape] invalid tetra in TetraMesh\n",
      "[Open3D WARNING] [CreateFromPointCloudAlphaShape] invalid tetra in TetraMesh\n",
      "[Open3D WARNING] [CreateFromPointCloudAlphaShape] invalid tetra in TetraMesh\n",
      "[Open3D WARNING] [CreateFromPointCloudAlphaShape] invalid tetra in TetraMesh\n",
      "[Open3D WARNING] [CreateFromPointCloudAlphaShape] invalid tetra in TetraMesh\n",
      "[Open3D WARNING] [CreateFromPointCloudAlphaShape] invalid tetra in TetraMesh\n",
      "[Open3D WARNING] [CreateFromPointCloudAlphaShape] invalid tetra in TetraMesh\n",
      "[Open3D WARNING] [CreateFromPointCloudAlphaShape] invalid tetra in TetraMesh\n",
      "[Open3D WARNING] [CreateFromPointCloudAlphaShape] invalid tetra in TetraMesh\n",
      "[Open3D WARNING] [CreateFromPointCloudAlphaShape] invalid tetra in TetraMesh\n",
      "[Open3D WARNING] [CreateFromPointCloudAlphaShape] invalid tetra in TetraMesh\n",
      "[Open3D WARNING] [CreateFromPointCloudAlphaShape] invalid tetra in TetraMesh\n"
     ]
    }
   ],
   "source": [
    "alpha = 100\n",
    "print(f\"alpha={alpha:.3f}\")\n",
    "mesh = o3d.geometry.TriangleMesh.create_from_point_cloud_alpha_shape(pcd, alpha)\n",
    "mesh.compute_vertex_normals()\n",
    "o3d.visualization.draw_geometries([mesh], mesh_show_back_face=True)"
   ]
  },
  {
   "cell_type": "code",
   "execution_count": null,
   "metadata": {},
   "outputs": [],
   "source": []
  }
 ],
 "metadata": {
  "kernelspec": {
   "display_name": "base",
   "language": "python",
   "name": "python3"
  },
  "language_info": {
   "codemirror_mode": {
    "name": "ipython",
    "version": 3
   },
   "file_extension": ".py",
   "mimetype": "text/x-python",
   "name": "python",
   "nbconvert_exporter": "python",
   "pygments_lexer": "ipython3",
   "version": "3.7.3"
  }
 },
 "nbformat": 4,
 "nbformat_minor": 2
}
