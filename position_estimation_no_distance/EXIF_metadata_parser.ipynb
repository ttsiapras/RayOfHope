{
 "cells": [
  {
   "cell_type": "code",
   "execution_count": 81,
   "id": "e4872c78",
   "metadata": {},
   "outputs": [],
   "source": [
    "from exif import Image\n",
    "from parse import parse\n",
    "import numpy as np\n"
   ]
  },
  {
   "cell_type": "code",
   "execution_count": 82,
   "id": "f51ce72d",
   "metadata": {},
   "outputs": [],
   "source": [
    "# Step 1: Convert yaw, pitch, distance to ENU vector\n",
    "def spherical_to_enu(yaw_deg, pitch_deg, distance_m):\n",
    "    print(yaw_deg)\n",
    "    yaw_rad = np.radians(yaw_deg)\n",
    "    pitch_rad = np.radians(pitch_deg)\n",
    "    x = distance_m * np.cos(pitch_rad) * np.sin(yaw_rad)  # East\n",
    "    y = distance_m * np.cos(pitch_rad) * np.cos(yaw_rad)  # North\n",
    "    z = distance_m * np.sin(pitch_rad)                    # Up\n",
    "    return np.array([x, y, z])\n",
    "\n",
    "# Step 2: Convert geodetic to ECEF\n",
    "def geodetic_to_ecef(lat_deg, lon_deg, alt_m):\n",
    "    a = 6378137.0\n",
    "    e2 = 6.69437999014e-3\n",
    "    lat = np.radians(lat_deg)\n",
    "    lon = np.radians(lon_deg)\n",
    "    N = a / np.sqrt(1 - e2 * np.sin(lat)**2)\n",
    "    x = (N + alt_m) * np.cos(lat) * np.cos(lon)\n",
    "    y = (N + alt_m) * np.cos(lat) * np.sin(lon)\n",
    "    z = (N * (1 - e2) + alt_m) * np.sin(lat)\n",
    "    return np.array([x, y, z])\n",
    "\n",
    "# Step 3: Convert ENU to ECEF\n",
    "def enu_to_ecef(enu, lat_deg, lon_deg):\n",
    "    lat = np.radians(lat_deg)\n",
    "    lon = np.radians(lon_deg)\n",
    "    R = np.array([\n",
    "        [-np.sin(lon),              np.cos(lon),              0],\n",
    "        [-np.sin(lat)*np.cos(lon), -np.sin(lat)*np.sin(lon), np.cos(lat)],\n",
    "        [np.cos(lat)*np.cos(lon),   np.cos(lat)*np.sin(lon), np.sin(lat)]\n",
    "    ])\n",
    "    return R.T @ enu\n",
    "\n",
    "# Step 5: Convert ECEF to Geodetic\n",
    "def ecef_to_geodetic(x, y, z):\n",
    "    a = 6378137.0\n",
    "    e2 = 6.69437999014e-3\n",
    "    b = a * (1 - e2)**0.5\n",
    "    ep = ((a**2 - b**2) / b**2)**0.5\n",
    "    p = (x**2 + y**2)**0.5\n",
    "    th = np.arctan2(a * z, b * p)\n",
    "    lon = np.arctan2(y, x)\n",
    "    lat = np.arctan2(z + ep**2 * b * np.sin(th)**3, p - e2 * a * np.cos(th)**3)\n",
    "    N = a / np.sqrt(1 - e2 * np.sin(lat)**2)\n",
    "    alt = p / np.cos(lat) - N\n",
    "    return np.degrees(lat), np.degrees(lon), alt\n",
    "\n",
    "# -----------------------\n",
    "# Example Input\n",
    "cam_lat = 37.7749       # Camera latitude\n",
    "cam_lon = -122.4194     # Camera longitude\n",
    "cam_alt = 10            # Camera altitude (m)\n",
    "yaw = 45                # Yaw to object in degrees (0° = North, 90° = East)\n",
    "pitch = 0               # Pitch to object in degrees (0° = horizontal)\n",
    "distance = 100          # Distance to object in meters\n",
    "\n",
    "def Spherical2Global(cam_lat,cam_lon,cam_alt,yaw,pitch,distance,verbose = True):\n",
    "\n",
    "    # Step 1: Relative position in ENU\n",
    "    enu_vec = spherical_to_enu(yaw, pitch, distance)\n",
    "    if verbose: print(\"Step 1 - ENU Vector (camera-relative):\", enu_vec)\n",
    "    # Step 2: Camera position in ECEF\n",
    "    cam_ecef = geodetic_to_ecef(cam_lat, cam_lon, cam_alt)\n",
    "    if verbose: print(\"Step 2 - Camera ECEF Coordinates:\", cam_ecef)\n",
    "    # Step 3: ENU vector rotated to ECEF frame\n",
    "    ecef_vec = enu_to_ecef(enu_vec, cam_lat, cam_lon)\n",
    "    if verbose: print(\"Step 3 - Object ECEF Displacement:\", ecef_vec)\n",
    "    # Step 4: Final ECEF position of object\n",
    "    obj_ecef = cam_ecef + ecef_vec\n",
    "    if verbose: print(\"Step 4 - Object ECEF Coordinates:\", obj_ecef)\n",
    "    # Step 5: Convert ECEF back to latitude, longitude, altitude\n",
    "    obj_lat, obj_lon, obj_alt = ecef_to_geodetic(*obj_ecef)\n",
    "    if verbose: print(\"Step 5 - Object Geographic Coordinates:\")\n",
    "\n",
    "    if verbose: \n",
    "        print(f\"Latitude:  {obj_lat:.8f}\")\n",
    "        print(f\"Longitude: {obj_lon:.8f}\")\n",
    "        print(f\"Altitude:  {obj_alt:.2f} m\")\n",
    "\n",
    "    return (obj_lat,obj_lon,obj_alt)\n"
   ]
  },
  {
   "cell_type": "code",
   "execution_count": 83,
   "id": "43f7fd18",
   "metadata": {},
   "outputs": [],
   "source": [
    "def DMS2DD(dms_tuple):\n",
    "    deg,min,sec = dms_tuple\n",
    "    dd = deg+(min/60)+(sec/3600)\n",
    "    return dd"
   ]
  },
  {
   "cell_type": "code",
   "execution_count": 90,
   "id": "044bacc0",
   "metadata": {},
   "outputs": [
    {
     "name": "stdout",
     "output_type": "stream",
     "text": [
      "Image includes EXIF tags: True\n"
     ]
    }
   ],
   "source": [
    "with open('IMG_20250609_072219Z.jpg', 'rb') as image_file:\n",
    "    my_image = Image(image_file)\n",
    "\n",
    "print(\"Image includes EXIF tags:\",my_image.has_exif)\n",
    "# dir(my_image)  # Print all available tags"
   ]
  },
  {
   "cell_type": "code",
   "execution_count": 91,
   "id": "a9c91923",
   "metadata": {},
   "outputs": [
    {
     "name": "stdout",
     "output_type": "stream",
     "text": [
      "Orientation  : Yaw:242.34624,Pitch:-1.1177090282324769,Roll:0.11405035972779842\u0000\n",
      "GPS Lat (DMS/DD): (37.0, 24.0, 56.9124) / 37.415808999999996\n",
      "GPS Lon (DMS/DD): (23.0, 21.0, 4.9319) / 23.351369972222223\n",
      "GPS Alt (m)  : 36.737\n",
      "242.34624\n"
     ]
    }
   ],
   "source": [
    "print(\"Orientation  :\",my_image.user_comment)\n",
    "print(\"GPS Lat (DMS/DD):\",my_image.gps_latitude,'/',DMS2DD(my_image.gps_latitude))\n",
    "print(\"GPS Lon (DMS/DD):\",my_image.gps_longitude,'/',DMS2DD(my_image.gps_longitude))\n",
    "print(\"GPS Alt (m)  :\",my_image.gps_altitude)\n",
    "\n",
    "Y,P,R = parse('Yaw:{:f},Pitch:{:f},Roll:{:f}\\x00',my_image.user_comment)\n",
    "\n",
    "Lat   = DMS2DD(my_image.gps_latitude)\n",
    "Lon   = DMS2DD(my_image.gps_longitude)\n",
    "Alt   = my_image.gps_altitude\n",
    "\n",
    "obj_lat,obj_lon,obj_alt = Spherical2Global(Lat,Lon,Alt,Y,P,200,verbose=False)"
   ]
  },
  {
   "cell_type": "code",
   "execution_count": 93,
   "id": "7b1fa14e",
   "metadata": {},
   "outputs": [
    {
     "name": "stdout",
     "output_type": "stream",
     "text": [
      "242.34624\n",
      "Step 1 - ENU Vector (camera-relative): [-221.39998729 -116.00975925   -4.87661634]\n",
      "Step 2 - Camera ECEF Coordinates: [4656666.66784111 2010428.83739926 3854169.1158613 ]\n",
      "Step 3 - Object ECEF Displacement: [ 148.91352264 -176.86182151  -95.10341144]\n",
      "Step 4 - Object ECEF Coordinates: [4656815.58136375 2010251.97557776 3854074.01244985]\n",
      "Step 5 - Object Geographic Coordinates:\n",
      "Latitude:  37.41476371\n",
      "Longitude: 23.34886902\n",
      "Altitude:  31.87 m\n"
     ]
    },
    {
     "data": {
      "image/png": "[encoded data removed]",
      "text/plain": [
       "<Figure size 1000x600 with 1 Axes>"
      ]
     },
     "metadata": {},
     "output_type": "display_data"
    }
   ],
   "source": [
    "import matplotlib.pyplot as plt\n",
    "import cartopy.crs as ccrs\n",
    "import cartopy.feature as cfeature\n",
    "\n",
    "off = 0.05\n",
    "\n",
    "cam_lat,cam_lon = (Lat,Lon)\n",
    "obj_lat,obj_lon,obj_alt = Spherical2Global(Lat,Lon,Alt,Y,P,250,verbose=True)\n",
    "\n",
    "# Set up map projection and figure\n",
    "fig = plt.figure(figsize=(10, 6))\n",
    "ax = plt.axes(projection=ccrs.PlateCarree())\n",
    "\n",
    "# Add map features\n",
    "# Add ocean with blue color\n",
    "ocean = cfeature.NaturalEarthFeature('physical', 'ocean', '10m', edgecolor='face', facecolor=\"#455d96\")\n",
    "ax.add_feature(ocean)\n",
    "# Add land with green color\n",
    "land = cfeature.NaturalEarthFeature('physical', 'land', '10m', edgecolor='face', facecolor=\"#a88006\")\n",
    "ax.add_feature(land)\n",
    "ax.add_feature(cfeature.COASTLINE)\n",
    "#ax.add_feature(cfeature.BORDERS)\n",
    "\n",
    "# Set window on map to plot upon\n",
    "ax.set_extent([Lon-off, Lon+off, Lat-off, Lat+off], crs=ccrs.PlateCarree())  # USA extent\n",
    "\n",
    "# Plot points\n",
    "\n",
    "ax.plot(cam_lon, cam_lat, marker='o', color='black', label = 'camera', markersize=2, transform=ccrs.PlateCarree())\n",
    "ax.plot(obj_lon, obj_lat, marker='o', color='red', label = 'object', markersize=2, transform=ccrs.PlateCarree())\n",
    "\n",
    "plt.title(\"Origin point\")\n",
    "plt.show()\n",
    "\n"
   ]
  },
  {
   "cell_type": "code",
   "execution_count": 75,
   "id": "fe06fd0f",
   "metadata": {},
   "outputs": [
    {
     "name": "stdout",
     "output_type": "stream",
     "text": [
      "242.34624\n"
     ]
    }
   ],
   "source": [
    "obj_lat,obj_lon,obj_alt = Spherical2Global(Lat,Lon,Alt,Y,P,200,verbose=False)"
   ]
  },
  {
   "cell_type": "code",
   "execution_count": 78,
   "id": "8725357f",
   "metadata": {},
   "outputs": [
    {
     "data": {
      "text/plain": [
       "32.838840421289206"
      ]
     },
     "execution_count": 78,
     "metadata": {},
     "output_type": "execute_result"
    }
   ],
   "source": [
    "obj_alt"
   ]
  },
  {
   "cell_type": "code",
   "execution_count": null,
   "id": "2128f63c",
   "metadata": {},
   "outputs": [],
   "source": []
  }
 ],
 "metadata": {
  "kernelspec": {
   "display_name": "base",
   "language": "python",
   "name": "python3"
  },
  "language_info": {
   "codemirror_mode": {
    "name": "ipython",
    "version": 3
   },
   "file_extension": ".py",
   "mimetype": "text/x-python",
   "name": "python",
   "nbconvert_exporter": "python",
   "pygments_lexer": "ipython3",
   "version": "3.11.5"
  }
 },
 "nbformat": 4,
 "nbformat_minor": 5
}
