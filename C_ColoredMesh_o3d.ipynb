{
 "cells": [
  {
   "cell_type": "code",
   "execution_count": 9,
   "metadata": {},
   "outputs": [],
   "source": [
    "from PIL import Image\n",
    "import numpy as np\n",
    "import matplotlib.pyplot as plt\n",
    "from mpl_toolkits.mplot3d import Axes3D\n",
    "import rasterio\n",
    "import webbrowser\n",
    "import open3d as o3d\n",
    "from geoUtils import Geotiff,create_colored_point_cloud_and_mesh,openPin\n",
    "%matplotlib qt\n"
   ]
  },
  {
   "cell_type": "code",
   "execution_count": 10,
   "metadata": {},
   "outputs": [],
   "source": [
    "rgbFile = './dem_data/L2_RGB.tif'\n",
    "demFile = './dem_data/L2_DEM.tif'"
   ]
  },
  {
   "cell_type": "code",
   "execution_count": 11,
   "metadata": {},
   "outputs": [
    {
     "name": "stdout",
     "output_type": "stream",
     "text": [
      "Imported GeoTiff: ./dem_data/L2_RGB.tif\n",
      "W= 1218 H= 954\n",
      "Bounds l: 23.771180236189803 b: 37.92479985657686 r: 23.880607875 t: 37.85710516561014\n",
      "Imported GeoTiff: ./dem_data/L2_DEM.tif\n",
      "W= 1218 H= 954\n",
      "Bounds l: 23.771180236189803 b: 37.92479985657686 r: 23.880607875 t: 37.85710516561014\n"
     ]
    }
   ],
   "source": [
    "rgbTiff = Geotiff(rgbFile)\n",
    "demTiff = Geotiff(demFile)"
   ]
  },
  {
   "cell_type": "markdown",
   "metadata": {},
   "source": [
    "* Show the imported geoImages"
   ]
  },
  {
   "cell_type": "code",
   "execution_count": 12,
   "metadata": {},
   "outputs": [],
   "source": [
    "dem  = demTiff.tiff.read(1)\n",
    "rgb = np.stack([rgbTiff.tiff.read(1),rgbTiff.tiff.read(2),rgbTiff.tiff.read(2)]).transpose((1,2,0))\n",
    "rgb = (rgb/rgb.max()).astype('float32')\n",
    "\n",
    "# Create a 2x2 subplot\n",
    "fig, axes = plt.subplots(1, 2, figsize=(8, 8))\n",
    "\n",
    "# Display images\n",
    "axes[0].imshow(np.flip(dem,1), cmap='gray')\n",
    "axes[0].set_title('dem'); axes[0].axis('off')\n",
    "\n",
    "axes[1].imshow(rgb)\n",
    "axes[1].set_title('G'); axes[1].axis('off')\n",
    "\n",
    "# Adjust layout\n",
    "plt.tight_layout()\n",
    "plt.show()"
   ]
  },
  {
   "cell_type": "markdown",
   "metadata": {},
   "source": [
    "* Matplotlib Preview of Digital elevation model"
   ]
  },
  {
   "cell_type": "code",
   "execution_count": 13,
   "metadata": {},
   "outputs": [],
   "source": [
    "from mpl_toolkits import mplot3d\n",
    "import numpy as np\n",
    "import matplotlib.pyplot as plt\n",
    "\n",
    "# Creating dataset\n",
    "z = dem[:100,:100]\n",
    "#y,x = np.indices((demTiff.height,demTiff.width))\n",
    "y,x = np.indices((100,100))\n",
    "# Creating figure\n",
    "fig = plt.figure(figsize =(10,10))\n",
    "ax = plt.axes(projection ='3d')\n",
    "ax.set_xlim(0,100)\n",
    "ax.set_ylim(0,100)\n",
    "ax.set_zlim(dem.min(),dem.max())\n",
    "# Creating plot\n",
    "ax.plot_surface(x, y, z, rstride=1, cstride=1, cmap='gray', edgecolor='none')\n",
    " \n",
    "# show plot\n",
    "plt.show()"
   ]
  },
  {
   "cell_type": "markdown",
   "metadata": {},
   "source": [
    "* Full rendering of surface using open3d"
   ]
  },
  {
   "cell_type": "code",
   "execution_count": 14,
   "metadata": {},
   "outputs": [
    {
     "name": "stdout",
     "output_type": "stream",
     "text": [
      "Visualizing Point Cloud...\n",
      "Visualizing Mesh...\n",
      "[Open3D WARNING] GLFW Error: WGL: Failed to make context current: The handle is invalid. \n",
      "[Open3D WARNING] [ViewControl] SetViewPoint() failed because window height and width are not set.\n"
     ]
    }
   ],
   "source": [
    "create_colored_point_cloud_and_mesh(dem,rgb,5,smooth=False)"
   ]
  },
  {
   "cell_type": "code",
   "execution_count": null,
   "metadata": {},
   "outputs": [],
   "source": []
  }
 ],
 "metadata": {
  "kernelspec": {
   "display_name": "base",
   "language": "python",
   "name": "python3"
  },
  "language_info": {
   "codemirror_mode": {
    "name": "ipython",
    "version": 3
   },
   "file_extension": ".py",
   "mimetype": "text/x-python",
   "name": "python",
   "nbconvert_exporter": "python",
   "pygments_lexer": "ipython3",
   "version": "3.11.5"
  }
 },
 "nbformat": 4,
 "nbformat_minor": 2
}
