{
 "cells": [
  {
   "cell_type": "code",
   "execution_count": 1,
   "id": "1908db19",
   "metadata": {},
   "outputs": [],
   "source": [
    "from geoUtils import *\n"
   ]
  },
  {
   "cell_type": "code",
   "execution_count": 5,
   "id": "682ea414",
   "metadata": {},
   "outputs": [],
   "source": [
    "lat,long = cvtCoord_deg2dec(\"37-50-44N\",\"23-48-27E\")\n",
    "\n",
    "openPin(lat,long)"
   ]
  },
  {
   "cell_type": "code",
   "execution_count": null,
   "id": "cec4543d",
   "metadata": {},
   "outputs": [
    {
     "name": "stdout",
     "output_type": "stream",
     "text": [
      "Successfully opened ./dem_data/1m_res/3V040321P0000306241A520002700542M_001651718.jpg with georeferencing.\n",
      "\n",
      "GeoTIFF created successfully: ./dem_data/1m_res/1m.tif\n",
      "Output CRS: EPSG:32634\n",
      "Output Transform: | 1.03, 0.00, 742671.31|\n",
      "| 0.00,-1.04, 4201087.78|\n",
      "| 0.00, 0.00, 1.00|\n",
      "Output Resolution: (1.03, 1.04)\n"
     ]
    }
   ],
   "source": [
    "\n",
    "create_geotiff_from_jpg_world('./dem_data/1m_res/3V040321P0000306241A520002700542M_001651718.jpg','./dem_data/1m_res/1m.tif')"
   ]
  },
  {
   "cell_type": "code",
   "execution_count": null,
   "id": "bfd914a0",
   "metadata": {},
   "outputs": [],
   "source": [
    "from geoUtils import *\n",
    "reproject_utm_to_latlon('./dem_data/1m_res/1m.tif', './dem_data/1m_res/1m_latlon.tif')"
   ]
  },
  {
   "cell_type": "code",
   "execution_count": 2,
   "id": "27535745",
   "metadata": {},
   "outputs": [
    {
     "name": "stdout",
     "output_type": "stream",
     "text": [
      "Successfully opened ./data_ignore/ms_left/3V050821M0000864781A520000600122M_001661899.jpg with georeferencing.\n",
      "Profile: {'driver': 'GTiff', 'dtype': 'uint8', 'nodata': None, 'width': 2206, 'height': 7219, 'count': 3, 'crs': CRS.from_wkt('PROJCS[\"WGS 84 / UTM zone 34N\",GEOGCS[\"WGS 84\",DATUM[\"WGS_1984\",SPHEROID[\"WGS 84\",6378137,298.257223563,AUTHORITY[\"EPSG\",\"7030\"]],AUTHORITY[\"EPSG\",\"6326\"]],PRIMEM[\"Greenwich\",0],UNIT[\"degree\",0.0174532925199433],AUTHORITY[\"EPSG\",\"4326\"]],PROJECTION[\"Transverse_Mercator\"],PARAMETER[\"latitude_of_origin\",0],PARAMETER[\"central_meridian\",21],PARAMETER[\"scale_factor\",0.9996],PARAMETER[\"false_easting\",500000],PARAMETER[\"false_northing\",0],UNIT[\"metre\",1,AUTHORITY[\"EPSG\",\"9001\"]],AXIS[\"Easting\",EAST],AXIS[\"Northing\",NORTH],AUTHORITY[\"EPSG\",\"32634\"]]'), 'transform': Affine(4.05, 0.0, 738925.6604948469,\n",
      "       0.0, -3.97, 4201932.754914082), 'blockxsize': 2206, 'blockysize': 16, 'tiled': True, 'compress': 'jpeg', 'interleave': 'pixel', 'photometric': 'ycbcr'}\n",
      "Data shape: (3, 7219, 2206)\n",
      "TIF count : 3\n",
      "An unexpected error occurred: ms_4m_left.tif: MissingRequired:TIFF directory is missing required \"StripOffsets\" field\n",
      "Successfully opened ./data_ignore/ms_right/3V051019M0000948131A520000600122M_001659624.jpg with georeferencing.\n",
      "Profile: {'driver': 'GTiff', 'dtype': 'uint8', 'nodata': None, 'width': 2209, 'height': 7222, 'count': 3, 'crs': CRS.from_wkt('PROJCS[\"WGS 84 / UTM zone 34N\",GEOGCS[\"WGS 84\",DATUM[\"WGS_1984\",SPHEROID[\"WGS 84\",6378137,298.257223563,AUTHORITY[\"EPSG\",\"7030\"]],AUTHORITY[\"EPSG\",\"6326\"]],PRIMEM[\"Greenwich\",0],UNIT[\"degree\",0.0174532925199433],AUTHORITY[\"EPSG\",\"4326\"]],PROJECTION[\"Transverse_Mercator\"],PARAMETER[\"latitude_of_origin\",0],PARAMETER[\"central_meridian\",21],PARAMETER[\"scale_factor\",0.9996],PARAMETER[\"false_easting\",500000],PARAMETER[\"false_northing\",0],UNIT[\"metre\",1,AUTHORITY[\"EPSG\",\"9001\"]],AXIS[\"Easting\",EAST],AXIS[\"Northing\",NORTH],AUTHORITY[\"EPSG\",\"32634\"]]'), 'transform': Affine(4.05, 0.0, 745624.4607535693,\n",
      "       0.0, -3.97, 4202125.158443508), 'blockxsize': 2209, 'blockysize': 16, 'tiled': True, 'compress': 'jpeg', 'interleave': 'pixel', 'photometric': 'ycbcr'}\n",
      "Data shape: (3, 7222, 2209)\n",
      "TIF count : 3\n",
      "An unexpected error occurred: ms_4m_right.tif: MissingRequired:TIFF directory is missing required \"StripOffsets\" field\n"
     ]
    },
    {
     "name": "stderr",
     "output_type": "stream",
     "text": [
      "Traceback (most recent call last):\n",
      "  File \"c:\\Users\\tilem\\Repos\\RayOfHope\\geoUtils.py\", line 360, in create_geotiff_from_jpg_world\n",
      "    with rasterio.open(output_geotiff_path, 'w', **profile) as dst:\n",
      "         ^^^^^^^^^^^^^^^^^^^^^^^^^^^^^^^^^^^^^^^^^^^^^^^^^^\n",
      "  File \"C:\\Users\\tilem\\AppData\\Roaming\\Python\\Python311\\site-packages\\rasterio\\env.py\", line 463, in wrapper\n",
      "    return f(*args, **kwds)\n",
      "           ^^^^^^^^^^^^^^^^\n",
      "  File \"C:\\Users\\tilem\\AppData\\Roaming\\Python\\Python311\\site-packages\\rasterio\\__init__.py\", line 378, in open\n",
      "    dataset = writer(\n",
      "              ^^^^^^^\n",
      "  File \"rasterio\\\\_io.pyx\", line 1509, in rasterio._io.DatasetWriterBase.__init__\n",
      "  File \"rasterio\\\\_io.pyx\", line 306, in rasterio._io._delete_dataset_if_exists\n",
      "  File \"rasterio\\\\_io.pyx\", line 307, in rasterio._io._delete_dataset_if_exists\n",
      "  File \"rasterio\\\\_base.pyx\", line 221, in rasterio._base.open_dataset\n",
      "  File \"rasterio\\\\_err.pyx\", line 359, in rasterio._err.exc_wrap_pointer\n",
      "rasterio._err.CPLE_AppDefinedError: ms_4m_left.tif: MissingRequired:TIFF directory is missing required \"StripOffsets\" field\n",
      "Traceback (most recent call last):\n",
      "  File \"c:\\Users\\tilem\\Repos\\RayOfHope\\geoUtils.py\", line 360, in create_geotiff_from_jpg_world\n",
      "    with rasterio.open(output_geotiff_path, 'w', **profile) as dst:\n",
      "         ^^^^^^^^^^^^^^^^^^^^^^^^^^^^^^^^^^^^^^^^^^^^^^^^^^\n",
      "  File \"C:\\Users\\tilem\\AppData\\Roaming\\Python\\Python311\\site-packages\\rasterio\\env.py\", line 463, in wrapper\n",
      "    return f(*args, **kwds)\n",
      "           ^^^^^^^^^^^^^^^^\n",
      "  File \"C:\\Users\\tilem\\AppData\\Roaming\\Python\\Python311\\site-packages\\rasterio\\__init__.py\", line 378, in open\n",
      "    dataset = writer(\n",
      "              ^^^^^^^\n",
      "  File \"rasterio\\\\_io.pyx\", line 1509, in rasterio._io.DatasetWriterBase.__init__\n",
      "  File \"rasterio\\\\_io.pyx\", line 306, in rasterio._io._delete_dataset_if_exists\n",
      "  File \"rasterio\\\\_io.pyx\", line 307, in rasterio._io._delete_dataset_if_exists\n",
      "  File \"rasterio\\\\_base.pyx\", line 221, in rasterio._base.open_dataset\n",
      "  File \"rasterio\\\\_err.pyx\", line 359, in rasterio._err.exc_wrap_pointer\n",
      "rasterio._err.CPLE_AppDefinedError: ms_4m_right.tif: MissingRequired:TIFF directory is missing required \"StripOffsets\" field\n"
     ]
    }
   ],
   "source": [
    "create_geotiff_from_jpg_world('./data_ignore/ms_left/3V050821M0000864781A520000600122M_001661899.jpg','ms_4m_left.tif')\n",
    "create_geotiff_from_jpg_world('./data_ignore/ms_right/3V051019M0000948131A520000600122M_001659624.jpg','ms_4m_right.tif')"
   ]
  },
  {
   "cell_type": "code",
   "execution_count": null,
   "id": "62a6c008",
   "metadata": {},
   "outputs": [],
   "source": [
    "# Example usage\n",
    "combine_rasters(\n",
    "    \"raster1.tif\",\n",
    "    \"raster2.tif\",\n",
    "    \"merged_output.tif\",\n",
    "    bbox=(-123.5, 45.0, -122.0, 46.0)  # Optional: (min_lon, min_lat, max_lon, max_lat)\n",
    ")\n"
   ]
  }
 ],
 "metadata": {
  "kernelspec": {
   "display_name": "base",
   "language": "python",
   "name": "python3"
  },
  "language_info": {
   "codemirror_mode": {
    "name": "ipython",
    "version": 3
   },
   "file_extension": ".py",
   "mimetype": "text/x-python",
   "name": "python",
   "nbconvert_exporter": "python",
   "pygments_lexer": "ipython3",
   "version": "3.11.5"
  }
 },
 "nbformat": 4,
 "nbformat_minor": 5
}
