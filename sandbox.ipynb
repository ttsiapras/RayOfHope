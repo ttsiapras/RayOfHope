{
 "cells": [
  {
   "cell_type": "code",
   "execution_count": null,
   "id": "cec4543d",
   "metadata": {},
   "outputs": [
    {
     "name": "stdout",
     "output_type": "stream",
     "text": [
      "Successfully opened ./dem_data/1m_res/3V040321P0000306241A520002700542M_001651718.jpg with georeferencing.\n",
      "\n",
      "GeoTIFF created successfully: ./dem_data/1m_res/1m.tif\n",
      "Output CRS: EPSG:32634\n",
      "Output Transform: | 1.03, 0.00, 742671.31|\n",
      "| 0.00,-1.04, 4201087.78|\n",
      "| 0.00, 0.00, 1.00|\n",
      "Output Resolution: (1.03, 1.04)\n"
     ]
    }
   ],
   "source": [
    "\n",
    "\n",
    "\n",
    "create_geotiff_from_jpg_world('./dem_data/1m_res/3V040321P0000306241A520002700542M_001651718.jpg','./dem_data/1m_res/1m.tif')"
   ]
  },
  {
   "cell_type": "code",
   "execution_count": 1,
   "id": "bfd914a0",
   "metadata": {},
   "outputs": [
    {
     "name": "stdout",
     "output_type": "stream",
     "text": [
      "Reprojecting './dem_data/1m_res/1m.tif' from EPSG:32634 to EPSG:4326...\n",
      "\n",
      "Reprojection complete. Output saved to: ./dem_data/1m_res/1m_latlon.tif\n",
      "New resolution (pixel size) in degrees: (9.549431696751722e-06, 9.549431696751722e-06)\n",
      "New CRS: EPSG:4326\n"
     ]
    },
    {
     "data": {
      "text/plain": [
       "'./dem_data/1m_res/1m_latlon.tif'"
      ]
     },
     "execution_count": 1,
     "metadata": {},
     "output_type": "execute_result"
    }
   ],
   "source": [
    "from geoUtils import *\n",
    "reproject_utm_to_latlon('./dem_data/1m_res/1m.tif', './dem_data/1m_res/1m_latlon.tif')"
   ]
  },
  {
   "cell_type": "code",
   "execution_count": null,
   "id": "62a6c008",
   "metadata": {},
   "outputs": [],
   "source": []
  }
 ],
 "metadata": {
  "kernelspec": {
   "display_name": "base",
   "language": "python",
   "name": "python3"
  },
  "language_info": {
   "codemirror_mode": {
    "name": "ipython",
    "version": 3
   },
   "file_extension": ".py",
   "mimetype": "text/x-python",
   "name": "python",
   "nbconvert_exporter": "python",
   "pygments_lexer": "ipython3",
   "version": "3.11.5"
  }
 },
 "nbformat": 4,
 "nbformat_minor": 5
}
